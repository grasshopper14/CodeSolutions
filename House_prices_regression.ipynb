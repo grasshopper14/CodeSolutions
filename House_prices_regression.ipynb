{
 "cells": [
  {
   "cell_type": "markdown",
   "metadata": {},
   "source": [
    "## Linear Regression models\n",
    "\n",
    "The dataset can be downloaded from theis page after you sign-up for the competition: https://www.kaggle.com/c/house-prices-advanced-regression-techniques/data. The dataset contains missing values, numerical and categorical columns. So, preprocessing the data to make it more suitable for linear regression is necessary."
   ]
  },
  {
   "cell_type": "code",
   "execution_count": 1,
   "metadata": {},
   "outputs": [],
   "source": [
    "import pandas as pd\n",
    "import numpy as np\n",
    "from sklearn.model_selection import train_test_split, cross_val_score\n",
    "from sklearn.compose import ColumnTransformer\n",
    "from sklearn.pipeline import Pipeline\n",
    "from sklearn.impute import SimpleImputer\n",
    "from sklearn.preprocessing import OneHotEncoder, LabelEncoder\n",
    "from sklearn.linear_model import LinearRegression, RidgeCV, LassoCV\n",
    "from scipy.stats import skew\n",
    "import matplotlib.pyplot as plt\n",
    "import warnings\n",
    "warnings.filterwarnings(\"ignore\")"
   ]
  },
  {
   "cell_type": "code",
   "execution_count": 2,
   "metadata": {},
   "outputs": [
    {
     "name": "stdout",
     "output_type": "stream",
     "text": [
      "{'BsmtQual': 2.53, 'GarageType': 5.55, 'PoolQC': 99.52, 'GarageCond': 5.55, 'BsmtCond': 2.53, 'BsmtFinType1': 2.53, 'Alley': 93.77, 'Electrical': 0.07, 'GarageQual': 5.55, 'BsmtExposure': 2.6, 'BsmtFinType2': 2.6, 'FireplaceQu': 47.26, 'GarageFinish': 5.55, 'MasVnrType': 0.55, 'Fence': 80.75, 'MiscFeature': 96.3}\n",
      "{'LotFrontage': 17.74, 'GarageYrBlt': 5.55, 'MasVnrArea': 0.55}\n"
     ]
    }
   ],
   "source": [
    "train_df = pd.read_csv('train.csv',index_col='Id')\n",
    "test_df = pd.read_csv('test.csv',index_col='Id')\n",
    "# train_df = train_df.drop(train_df[(train_df['GrLivArea']>4000) & (train_df['SalePrice']<300000)].index)\n",
    "nrows = len(train_df)\n",
    "\n",
    "categorical_cols_missing_train = [col for col in train_df.columns if train_df[col].isnull().any() and \n",
    "                                  train_df[col].dtype=='object']\n",
    "train_df[categorical_cols_missing_train] = train_df[categorical_cols_missing_train].fillna('NotAvailable')\n",
    "\n",
    "categorical_cols_missing_test = [col for col in test_df.columns if test_df[col].isnull().any() and \n",
    "                                 test_df[col].dtype=='object']\n",
    "test_df[categorical_cols_missing_test] = test_df[categorical_cols_missing_test].fillna('NotAvailable')\n",
    "\n",
    "cols_with_missing = [col for col in train_df.columns if train_df[col].isnull().any()]\n",
    "\n",
    "#Observe the percentage of 'NotAvailable' entries in the categorical columns\n",
    "\n",
    "print(dict(zip(categorical_cols_missing_train,\n",
    "               [round(sum(train_df[col]=='NotAvailable')/nrows*100,2) for col in categorical_cols_missing_train])))\n",
    "\n",
    "#Observe the percentage of 'NotAvailable' entries in the numerical columns\n",
    "\n",
    "print(dict(zip(cols_with_missing,[round(train_df[col].isnull().sum()/len(train_df)*100,2) \n",
    "                                  for col in cols_with_missing if train_df[col].dtype in ['int64', 'float64']])))"
   ]
  },
  {
   "cell_type": "markdown",
   "metadata": {},
   "source": [
    "Identify columns with most missing values and exclude them from the analysis"
   ]
  },
  {
   "cell_type": "code",
   "execution_count": 3,
   "metadata": {},
   "outputs": [],
   "source": [
    "categ_cols_most_missing = [col for col in categorical_cols_missing_train \n",
    "                   if sum(train_df[col]=='NotAvailable')/nrows>0.5]\n",
    "X_train_data = train_df.drop(['SalePrice'],axis=1)\n",
    "y_train_data = train_df['SalePrice']\n",
    "categorical_cols = [col for col in set(X_train_data.columns) - set(categ_cols_most_missing) if\n",
    "                    X_train_data[col].dtype == \"object\"]\n",
    "numerical_cols = [col for col in X_train_data if X_train_data[col].dtype in ['int64', 'float64']]"
   ]
  },
  {
   "cell_type": "markdown",
   "metadata": {},
   "source": [
    "Next, the missing values are imputed. The categories are one-hot encoded."
   ]
  },
  {
   "cell_type": "code",
   "execution_count": 4,
   "metadata": {},
   "outputs": [],
   "source": [
    "numerical_pp = SimpleImputer()\n",
    "\n",
    "categorical_pp = Pipeline(steps=[\n",
    "    ('oh', OneHotEncoder(handle_unknown='ignore'))\n",
    "])\n",
    "preprocessor = ColumnTransformer(\n",
    "    transformers=[\n",
    "        ('num', numerical_pp, numerical_cols),\n",
    "        ('cat', categorical_pp, categorical_cols)\n",
    "    ])"
   ]
  },
  {
   "cell_type": "code",
   "execution_count": 5,
   "metadata": {},
   "outputs": [],
   "source": [
    "my_model = LinearRegression()\n",
    "my_pipeline = Pipeline(steps=[('preprocessor', preprocessor),\n",
    "                              ('model', my_model)])\n",
    "my_pipeline.fit(X_train_data, y_train_data)\n",
    "preds = my_pipeline.predict(test_df)\n",
    "solution = pd.DataFrame({\"id\":test_df.index, \"SalePrice\":preds})\n",
    "solution.to_csv(\"lin_sol.csv\", index = False)"
   ]
  },
  {
   "cell_type": "markdown",
   "metadata": {},
   "source": [
    "Let us make the dataset more suitable for linear regression"
   ]
  },
  {
   "cell_type": "code",
   "execution_count": 6,
   "metadata": {},
   "outputs": [],
   "source": [
    "skewed_cols = X_train_data[numerical_cols].apply(\n",
    "    lambda x: abs(skew(x.dropna())))>0.75\n",
    "skewed_cols = skewed_cols[skewed_cols].index\n",
    "X_train_data[skewed_cols] = np.log1p(X_train_data[skewed_cols])\n",
    "y_train_data = np.log1p(y_train_data)\n",
    "test_df[skewed_cols] = np.log1p(test_df[skewed_cols])\n",
    "my_model = LinearRegression()\n",
    "my_pipeline = Pipeline(steps=[('preprocessor', preprocessor),\n",
    "                              ('model', my_model)])\n",
    "my_pipeline.fit(X_train_data, y_train_data)\n",
    "preds = np.expm1(my_pipeline.predict(test_df))\n",
    "solution = pd.DataFrame({\"id\":test_df.index, \"SalePrice\":preds})\n",
    "solution.to_csv(\"lin_sol.csv\", index = False)"
   ]
  },
  {
   "cell_type": "markdown",
   "metadata": {},
   "source": [
    "Let us compare various linear models and pick out the best one. The score was less than top 50%."
   ]
  },
  {
   "cell_type": "code",
   "execution_count": 7,
   "metadata": {},
   "outputs": [
    {
     "name": "stdout",
     "output_type": "stream",
     "text": [
      "LinearRegression: 0.13887133018810266\n",
      "RidgeCV: 0.1285833616511126\n",
      "LassoCV: 0.15381664910296816\n"
     ]
    }
   ],
   "source": [
    "my_model = LinearRegression()\n",
    "my_pipeline = Pipeline(steps=[('preprocessor', preprocessor),\n",
    "                              ('model', my_model)\n",
    "                             ])\n",
    "rmse = np.sqrt(-cross_val_score(my_pipeline, X_train_data, y_train_data, \n",
    "                                scoring=\"neg_mean_squared_error\", cv = 5))\n",
    "print('LinearRegression:', rmse.mean())\n",
    "my_model = RidgeCV(alphas=[0.01,0.1,0.5,1,2,4,6,8])\n",
    "my_pipeline = Pipeline(steps=[('preprocessor', preprocessor),\n",
    "                              ('model', my_model)\n",
    "                             ])\n",
    "rmse = np.sqrt(-cross_val_score(my_pipeline, X_train_data, y_train_data, \n",
    "                                scoring=\"neg_mean_squared_error\", cv = 5))\n",
    "print('RidgeCV:', rmse.mean())\n",
    "my_model = LassoCV(alphas=[0.01,0.1,0.5,1,2])\n",
    "my_pipeline = Pipeline(steps=[('preprocessor', preprocessor),\n",
    "                              ('model', my_model)\n",
    "                             ])\n",
    "rmse = np.sqrt(-cross_val_score(my_pipeline, X_train_data, y_train_data, \n",
    "                                scoring=\"neg_mean_squared_error\", cv = 5))\n",
    "print('LassoCV:',rmse.mean())"
   ]
  },
  {
   "cell_type": "markdown",
   "metadata": {},
   "source": [
    "RidgeCV performs better but why not LassoCV? Are all the features important?\n",
    "The score improved to nearly top 30%."
   ]
  },
  {
   "cell_type": "code",
   "execution_count": 8,
   "metadata": {},
   "outputs": [],
   "source": [
    "my_model = RidgeCV(alphas=[0.01,0.1,0.5,1,2,4,6,8])\n",
    "my_pipeline = Pipeline(steps=[('preprocessor', preprocessor),\n",
    "                              ('model', my_model)])\n",
    "my_pipeline.fit(X_train_data, y_train_data)\n",
    "preds = np.expm1(my_pipeline.predict(test_df))\n",
    "solution = pd.DataFrame({\"id\":test_df.index, \"SalePrice\":preds})\n",
    "solution.to_csv(\"lin_sol.csv\", index = False)"
   ]
  },
  {
   "cell_type": "markdown",
   "metadata": {},
   "source": [
    "Next an outlier is detected in the training dataset which may not generalize the model well. This point was realized after referring to: https://www.kaggle.com/lucasgiutavares/easy-modelling-with-lasso-gbm-regression-top-19 and observing the numerical features against the sales price."
   ]
  },
  {
   "cell_type": "code",
   "execution_count": 9,
   "metadata": {},
   "outputs": [
    {
     "data": {
      "text/plain": [
       "<matplotlib.text.Text at 0x7f594fe12208>"
      ]
     },
     "execution_count": 9,
     "metadata": {},
     "output_type": "execute_result"
    },
    {
     "data": {
      "image/png": "[encoded data removed]",
      "text/plain": [
       "<matplotlib.figure.Figure at 0x7f595111f588>"
      ]
     },
     "metadata": {
      "needs_background": "light"
     },
     "output_type": "display_data"
    }
   ],
   "source": [
    "plt.scatter(train_df['GrLivArea'],train_df['SalePrice'])\n",
    "plt.xlabel('Living Area in sq.ft.')\n",
    "plt.ylabel('Sales Price')"
   ]
  },
  {
   "cell_type": "markdown",
   "metadata": {},
   "source": [
    "The outliers are removed and the predictions are obtained again the score on the test dataset improves to top 25%."
   ]
  },
  {
   "cell_type": "code",
   "execution_count": 10,
   "metadata": {},
   "outputs": [],
   "source": [
    "train_df = train_df.drop(train_df[(train_df['GrLivArea']>4000) & (train_df['SalePrice']<300000)].index)\n",
    "X_train_data = train_df.drop(['SalePrice'],axis=1)\n",
    "y_train_data = train_df['SalePrice']\n",
    "skewed_cols = X_train_data[numerical_cols].apply(\n",
    "    lambda x: abs(skew(x.dropna())))>0.75\n",
    "skewed_cols = skewed_cols[skewed_cols].index\n",
    "X_train_data[skewed_cols] = np.log1p(X_train_data[skewed_cols])\n",
    "y_train_data = np.log1p(y_train_data)\n",
    "test_df[skewed_cols] = np.log1p(test_df[skewed_cols])\n",
    "my_model = RidgeCV(alphas=[0.01,0.1,0.5,1,2,4,6,8])\n",
    "my_pipeline = Pipeline(steps=[('preprocessor', preprocessor),\n",
    "                              ('model', my_model)])\n",
    "my_pipeline.fit(X_train_data, y_train_data)\n",
    "preds = np.expm1(my_pipeline.predict(test_df))\n",
    "solution = pd.DataFrame({\"id\":test_df.index, \"SalePrice\":preds})\n",
    "solution.to_csv(\"lin_sol.csv\", index = False)"
   ]
  }
 ],
 "metadata": {
  "kernelspec": {
   "display_name": "Python 3",
   "language": "python",
   "name": "python3"
  },
  "language_info": {
   "codemirror_mode": {
    "name": "ipython",
    "version": 3
   },
   "file_extension": ".py",
   "mimetype": "text/x-python",
   "name": "python",
   "nbconvert_exporter": "python",
   "pygments_lexer": "ipython3",
   "version": "3.5.2"
  }
 },
 "nbformat": 4,
 "nbformat_minor": 2
}
