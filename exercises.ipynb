{
 "cells": [
  {
   "cell_type": "markdown",
   "metadata": {},
   "source": [
    "A list of programming questions from:\n",
    "* https://leetcode.com/problems/wildcard-matching\n",
    "* https://leetcode.com/problems/word-search-ii \n",
    "* https://leetcode.com/problems/binary-tree-maximum-path-sum"
   ]
  },
  {
   "cell_type": "markdown",
   "metadata": {},
   "source": [
    "### Given a list of unique numbers, how will you sort them using a binary tree data structure?"
   ]
  },
  {
   "cell_type": "code",
   "execution_count": 1,
   "metadata": {},
   "outputs": [],
   "source": [
    "class Node:\n",
    "    def __init__(self,data):\n",
    "        self.data = data\n",
    "        self.left = None\n",
    "        self.right = None\n",
    "    def insert(self,data):\n",
    "        if self.data is not None:\n",
    "            if self.data>data:\n",
    "                if self.left is None:\n",
    "                    self.left = Node(data)\n",
    "                else:\n",
    "                    self.left.insert(data)\n",
    "            elif self.data<data:\n",
    "                if self.right is None:\n",
    "                    self.right = Node(data)\n",
    "                else:\n",
    "                    self.right.insert(data)\n",
    "        else:\n",
    "            self.data = data\n",
    "    def PrintTree(self):\n",
    "        if self.left is not None:\n",
    "            self.left.PrintTree()\n",
    "        print(self.data)  \n",
    "        if self.right is not None:\n",
    "            self.right.PrintTree()"
   ]
  },
  {
   "cell_type": "code",
   "execution_count": 2,
   "metadata": {},
   "outputs": [
    {
     "name": "stdout",
     "output_type": "stream",
     "text": [
      "3\n",
      "6\n",
      "10\n",
      "11\n",
      "12\n"
     ]
    }
   ],
   "source": [
    "tree = Node(10)\n",
    "tree.insert(6)\n",
    "tree.insert(3)\n",
    "tree.insert(11)\n",
    "tree.insert(12)\n",
    "tree.PrintTree()"
   ]
  },
  {
   "cell_type": "markdown",
   "metadata": {},
   "source": [
    "### Given a 2D array of letters and a word, check if the word is present in the array. Each word must be constructed from horizontally or vertically neighboring cell. The same letter cell may not be used more than once in a word. "
   ]
  },
  {
   "cell_type": "code",
   "execution_count": 4,
   "metadata": {},
   "outputs": [],
   "source": [
    "def findWord(board,word): \n",
    "    #board is the 2D array\n",
    "    m = len(board)\n",
    "    n = len(board[0])   \n",
    "    c = word[0]\n",
    "    for i in range(m):\n",
    "        for j in range(n):\n",
    "            if board[i][j]==c:\n",
    "                if dfs(board,word,i,j,0):\n",
    "                    print(True)\n",
    "                else:\n",
    "                    print(False)\n",
    "def dfs(b,w,i,j,k):\n",
    "    m = len(b)\n",
    "    n = len(b[0])\n",
    "    #Check if the counters are in range\n",
    "    if (i<0 or j<0 or i > m-1 or j > n-1 or k>len(w)-1):\n",
    "        return False\n",
    "    if b[i][j] == w[k]:\n",
    "        if k==len(w)-1:\n",
    "            return True\n",
    "        else:\n",
    "            b[i][j] = '#'\n",
    "        #recursively check for the neighborhoods\n",
    "        if dfs(b,w,i+1,j,k+1) or dfs(b,w,i,j+1,k+1) or dfs(b,w,i-1,j,k+1) or dfs(b,w,i,j-1,k+1):\n",
    "            b[i][j] = w[k]\n",
    "            return True\n",
    "        else:\n",
    "            b[i][j] = w[k]\n",
    "            return False\n",
    "    return False"
   ]
  },
  {
   "cell_type": "code",
   "execution_count": 8,
   "metadata": {},
   "outputs": [
    {
     "name": "stdout",
     "output_type": "stream",
     "text": [
      "True\n"
     ]
    }
   ],
   "source": [
    "board=[['o','a','a','n'],\n",
    "  ['e','t','a','e'],\n",
    "  ['i','h','k','r'],\n",
    "  ['i','f','l','v']]\n",
    "word=\"oath\"\n",
    "findWord(board,word)"
   ]
  },
  {
   "cell_type": "markdown",
   "metadata": {},
   "source": [
    "### Given an input string and a pattern, implement wildcard pattern matching with support for ' ? ' and '\\*'\n",
    "'?' matches any single character and '\\*' matches any sequence including empty sequence of characters. For example: string: ‘aa’ and pattern ‘a\\*’ or matches but ‘aa’ and ‘\\*b’ do not match."
   ]
  },
  {
   "cell_type": "code",
   "execution_count": 13,
   "metadata": {},
   "outputs": [],
   "source": [
    "def match(text,patt):\n",
    "    #text is the given string\n",
    "    #patt is the pattern to be checked for a match\n",
    "    m = len(text)\n",
    "    n = len(patt)\n",
    "    i = 0 #text counter\n",
    "    j = 0 #pattern counter\n",
    "    while i<m and j<n:\n",
    "        if patt[j]==text[i] or patt[j] == '?':\n",
    "            i+=1\n",
    "            j+=1\n",
    "        elif patt[j]!='*' and patt[j]!=text[i]:\n",
    "            return False        \n",
    "        else:\n",
    "            check = False\n",
    "            tt = '' # text tracker\n",
    "            while len(tt)<=m:\n",
    "                # pattern tracker\n",
    "                pt = tt + patt[j+1:] \n",
    "                check = match(text[i:],pt)\n",
    "                if check:\n",
    "                    return True\n",
    "                else:\n",
    "                    #Keep adding ? till next character matches with text\n",
    "                    tt+='?'\n",
    "            return False\n",
    "    #Check if text counter has reached the end\n",
    "    if i!=m:\n",
    "        return False\n",
    "    #Keep increasing pattern counter if '*'\n",
    "    while j<n and patt[j]=='*':\n",
    "        j+=1\n",
    "    return j==n"
   ]
  },
  {
   "cell_type": "code",
   "execution_count": 15,
   "metadata": {},
   "outputs": [
    {
     "data": {
      "text/plain": [
       "True"
      ]
     },
     "execution_count": 15,
     "metadata": {},
     "output_type": "execute_result"
    }
   ],
   "source": [
    "text = 'Algorithms'\n",
    "patt = 'A*t?m?'\n",
    "# text='aa'\n",
    "# patt='*b'\n",
    "match(text,patt)"
   ]
  },
  {
   "cell_type": "markdown",
   "metadata": {},
   "source": [
    "### Given a binary tree find the maximum sum along a path that passes through the root in the binary tree."
   ]
  },
  {
   "cell_type": "code",
   "execution_count": 1,
   "metadata": {},
   "outputs": [],
   "source": [
    "class Solution:\n",
    "    def maxPathSum(self, root):\n",
    "        if root is None:\n",
    "            return 0\n",
    "        self.s = root.val\n",
    "        self.maxPathSumCalc(root)\n",
    "        return self.s\n",
    "    def maxPathSumCalc(self,root):        \n",
    "        if root is None:\n",
    "            return 0\n",
    "        lsum = self.maxPathSumCalc(root.left)\n",
    "        rsum = self.maxPathSumCalc(root.right)                \n",
    "        self.s = max(self.s,lsum+rsum+root.val,rsum+root.val,lsum+root.val)\n",
    "        return max(lsum,rsum)+root.val"
   ]
  },
  {
   "cell_type": "code",
   "execution_count": 2,
   "metadata": {},
   "outputs": [
    {
     "data": {
      "text/plain": [
       "14"
      ]
     },
     "execution_count": 2,
     "metadata": {},
     "output_type": "execute_result"
    }
   ],
   "source": [
    "class TreeNode:\n",
    "    def __init__(self, x):\n",
    "        self.val = x\n",
    "        self.left = None\n",
    "        self.right = None\n",
    "root = TreeNode(1)\n",
    "root.left = TreeNode(-2)\n",
    "root.right = TreeNode(3)\n",
    "root.right.left = TreeNode(10)\n",
    "Solution().maxPathSum(root)"
   ]
  },
  {
   "cell_type": "code",
   "execution_count": null,
   "metadata": {},
   "outputs": [],
   "source": []
  }
 ],
 "metadata": {
  "kernelspec": {
   "display_name": "Python 3",
   "language": "python",
   "name": "python3"
  },
  "language_info": {
   "codemirror_mode": {
    "name": "ipython",
    "version": 3
   },
   "file_extension": ".py",
   "mimetype": "text/x-python",
   "name": "python",
   "nbconvert_exporter": "python",
   "pygments_lexer": "ipython3",
   "version": "3.5.2"
  }
 },
 "nbformat": 4,
 "nbformat_minor": 2
}
